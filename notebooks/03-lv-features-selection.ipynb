{
 "cells": [
  {
   "cell_type": "code",
   "execution_count": null,
   "id": "f2672eb1-5a53-4b18-a968-90cbee2b517c",
   "metadata": {},
   "outputs": [],
   "source": [
    "%load_ext autoreload\n",
    "%autoreload 2"
   ]
  },
  {
   "cell_type": "code",
   "execution_count": null,
   "id": "1b069d16-c6da-429d-a9cd-6f5a82a02d99",
   "metadata": {},
   "outputs": [],
   "source": [
    "import os\n",
    "import sys\n",
    "module_path = os.path.abspath(os.path.join('..')) # or the path to your source code\n",
    "sys.path.insert(0, module_path)"
   ]
  },
  {
   "cell_type": "code",
   "execution_count": null,
   "id": "4d7cd027-09b4-4bca-9175-74cb092e21a3",
   "metadata": {},
   "outputs": [],
   "source": [
    "import pandas as pd\n",
    "from tqdm import tqdm\n",
    "import re\n",
    "import nltk\n",
    "import seaborn as sns\n",
    "import matplotlib.pyplot as plt"
   ]
  },
  {
   "cell_type": "code",
   "execution_count": null,
   "id": "e790da91-3c8d-4bdc-afaf-7396f2fd236a",
   "metadata": {},
   "outputs": [],
   "source": [
    "from nlp_project.config import PROCESSED_DATA_DIR, INTERIM_DATA_DIR\n",
    "from nlp_project.plots import *\n",
    "from nlp_project.dataset import build_ontolgy"
   ]
  },
  {
   "cell_type": "code",
   "execution_count": null,
   "id": "c4f999cb-e3b9-4175-894e-d9b66bc0904c",
   "metadata": {},
   "outputs": [],
   "source": [
    "dataset = pd.read_csv(PROCESSED_DATA_DIR / 'preprocessed_dataset.csv', sep=';')\n",
    "dataset"
   ]
  },
  {
   "cell_type": "code",
   "execution_count": null,
   "id": "eacfdf7a-526f-4cae-a7db-c655fbe6f382",
   "metadata": {},
   "outputs": [],
   "source": [
    "descr = dataset[['description', 'asin', 'brand']]\n",
    "descr.drop_duplicates(inplace=True)\n",
    "descr"
   ]
  },
  {
   "cell_type": "code",
   "execution_count": null,
   "id": "8fc69645-e7e7-4acd-8d1d-1ff498a4cd92",
   "metadata": {},
   "outputs": [],
   "source": [
    "brands_product_count = descr.groupby('brand').size().reset_index(name='counts').sort_values(by='counts', ascending=False)\n",
    "brands_product_count.to_csv(INTERIM_DATA_DIR / 'brand_product_count.csv',sep=';', index=False)\n",
    "brands_product_count"
   ]
  },
  {
   "cell_type": "code",
   "execution_count": null,
   "id": "6c1f77f6-8c06-40c7-9630-513298e0297e",
   "metadata": {},
   "outputs": [],
   "source": [
    "import plotly.graph_objects as go\n",
    "\n",
    "labels = brands_product_count['brand']\n",
    "values = brands_product_count['counts']\n",
    "\n",
    "pie_chart_go(labels=labels, values=values)"
   ]
  },
  {
   "cell_type": "code",
   "execution_count": null,
   "id": "456d7f15-5dfb-4f09-b40c-a7a7c9f52d3e",
   "metadata": {},
   "outputs": [],
   "source": [
    "import nltk\n",
    "nltk.download('punkt')\n",
    "nltk.download('wordnet')\n",
    "nltk.download('stopwords')\n",
    "nltk.download('averaged_perceptron_tagger')\n",
    "nltk.download('tagsets')\n",
    "nltk.download('universal_tagset')"
   ]
  },
  {
   "cell_type": "code",
   "execution_count": null,
   "id": "5324c2bc-210b-4939-9ca6-a0c05c0dafd6",
   "metadata": {},
   "outputs": [],
   "source": [
    "from nltk.corpus import stopwords\n",
    "stop_words = stopwords.words('english')"
   ]
  },
  {
   "cell_type": "code",
   "execution_count": null,
   "id": "84fcab0e-006d-40f4-a916-064d56f78776",
   "metadata": {},
   "outputs": [],
   "source": [
    "from nltk.stem import WordNetLemmatizer\n",
    "lemmatizer = WordNetLemmatizer()"
   ]
  },
  {
   "cell_type": "code",
   "execution_count": null,
   "id": "767825b3-7522-4a28-9fe8-de1dc9e81ad0",
   "metadata": {},
   "outputs": [],
   "source": [
    "'''\n",
    "def build_ontolgy(df):\n",
    "    nouns = []\n",
    "    for index, row in tqdm(df.iterrows(), total = len(df)):\n",
    "        text = row['description']\n",
    "        text_cleaned = re.sub(r'[^\\w\\s]', '', text) #cleaning\n",
    "        words = nltk.word_tokenize(text_cleaned) #tokenization\n",
    "        words = [w.lower() for w in words] #lower casing\n",
    "        tagged_words = nltk.pos_tag(words, tagset='universal') #POS-tagging\n",
    "        preprocessed_words = [(lemmatizer.lemmatize(w), tag) for w, tag in tagged_words if not w in stop_words] #stopwords removal and lemmatization\n",
    "        #print(filter_text)\n",
    "        for word, tag in preprocessed_words:\n",
    "            if(tag == 'NOUN'):\n",
    "                nouns.append(word)\n",
    "            \n",
    "    return nouns\n",
    "'''"
   ]
  },
  {
   "cell_type": "code",
   "execution_count": null,
   "id": "ceb156b1-16a3-43d2-ad5a-783c38e4f6a6",
   "metadata": {},
   "outputs": [],
   "source": [
    "ont = build_ontolgy(descr)"
   ]
  },
  {
   "cell_type": "code",
   "execution_count": null,
   "id": "c6b86fe8-b861-4b61-8ec1-b5389c88d13c",
   "metadata": {},
   "outputs": [],
   "source": [
    "from collections import Counter\n",
    "\n",
    "nouns_freq = Counter(ont)\n",
    "#print(value_counts)\n",
    "# Convert Counter to DataFrame\n",
    "df_nouns_freq = pd.DataFrame(nouns_freq.items(), columns=['value', 'count'])\n",
    "df_nouns_freq = df_nouns_freq.sort_values(by='count', ascending=False)\n",
    "df_nouns_freq.head(30)"
   ]
  },
  {
   "cell_type": "code",
   "execution_count": null,
   "id": "9a1bebc6-ed12-4c23-b899-827543aff29f",
   "metadata": {},
   "outputs": [],
   "source": [
    "sb_bar_plot(x = df_nouns_freq['count'][:25],\n",
    "            y = df_nouns_freq['value'][:25],\n",
    "            orient='h',\n",
    "            title='Most frequent nouns in description', \n",
    "            xlabel='Count', \n",
    "            ylabel='Noun')"
   ]
  },
  {
   "cell_type": "markdown",
   "id": "2a0f93e3-53d7-4416-8eca-8da2dd7bd3dc",
   "metadata": {},
   "source": [
    "Esporto e analizzo in excel manualmente"
   ]
  },
  {
   "cell_type": "code",
   "execution_count": null,
   "id": "66d34963-b85b-441c-ac7b-1039c943a483",
   "metadata": {},
   "outputs": [],
   "source": [
    "df_nouns_freq.to_csv(PROCESSED_DATA_DIR / 'ontology.csv', index=False, sep=';')"
   ]
  },
  {
   "cell_type": "code",
   "execution_count": null,
   "id": "9807c028-5181-442e-bdfe-4d7afe8f64fc",
   "metadata": {},
   "outputs": [],
   "source": [
    "# Parole chiave da cercare\n",
    "#features = list(pd.read_csv('data/ontology_filtered.csv', sep=';')['value'])\n"
   ]
  },
  {
   "cell_type": "code",
   "execution_count": null,
   "id": "4751fc53-3515-4203-943d-7f17ffbde29d",
   "metadata": {},
   "outputs": [],
   "source": [
    "#features"
   ]
  },
  {
   "cell_type": "code",
   "execution_count": null,
   "id": "06573421-214b-4691-8373-b04027fd0347",
   "metadata": {},
   "outputs": [],
   "source": [
    "# Crea un'espressione regolare che combini tutte le parole chiave\n",
    "#pattern = '|'.join(features)\n",
    "\n",
    "# Filtra il DataFrame\n",
    "#filtered_df = dataset[dataset['preprocessedText'].str.contains(pattern, case=False, na=False)]\n",
    "\n",
    "#filtered_df.loc[0,'preprocessedText']"
   ]
  },
  {
   "cell_type": "code",
   "execution_count": null,
   "id": "58c5bc6d-198e-4813-b722-de762d05c961",
   "metadata": {},
   "outputs": [],
   "source": [
    "#filtered_df.to_csv('data/preprocessed_dataset.csv', index=False, sep=';')"
   ]
  },
  {
   "cell_type": "code",
   "execution_count": null,
   "id": "25813ee9-2346-4e01-956d-82482a4b66d5",
   "metadata": {},
   "outputs": [],
   "source": []
  }
 ],
 "metadata": {
  "kernelspec": {
   "display_name": "Python 3 (ipykernel)",
   "language": "python",
   "name": "python3"
  },
  "language_info": {
   "codemirror_mode": {
    "name": "ipython",
    "version": 3
   },
   "file_extension": ".py",
   "mimetype": "text/x-python",
   "name": "python",
   "nbconvert_exporter": "python",
   "pygments_lexer": "ipython3",
   "version": "3.10.15"
  }
 },
 "nbformat": 4,
 "nbformat_minor": 5
}
