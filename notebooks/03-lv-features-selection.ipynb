{
 "cells": [
  {
   "cell_type": "code",
   "execution_count": 1,
   "id": "f2672eb1-5a53-4b18-a968-90cbee2b517c",
   "metadata": {},
   "outputs": [],
   "source": [
    "%load_ext autoreload\n",
    "%autoreload 2"
   ]
  },
  {
   "cell_type": "code",
   "execution_count": 2,
   "id": "05b8d00a-330f-43f1-b9eb-1075770597e3",
   "metadata": {},
   "outputs": [],
   "source": [
    "import os\n",
    "import sys\n",
    "module_path = os.path.abspath(os.path.join('..')) # or the path to your source code\n",
    "sys.path.insert(0, module_path)"
   ]
  },
  {
   "cell_type": "code",
   "execution_count": 3,
   "id": "4d7cd027-09b4-4bca-9175-74cb092e21a3",
   "metadata": {},
   "outputs": [],
   "source": [
    "import pandas as pd\n",
    "from tqdm import tqdm\n",
    "import re\n",
    "import nltk\n",
    "import seaborn as sns\n",
    "import matplotlib.pyplot as plt"
   ]
  },
  {
   "cell_type": "code",
   "execution_count": 4,
   "id": "e790da91-3c8d-4bdc-afaf-7396f2fd236a",
   "metadata": {},
   "outputs": [
    {
     "name": "stderr",
     "output_type": "stream",
     "text": [
      "\u001b[32m2024-10-24 11:32:46.321\u001b[0m | \u001b[1mINFO    \u001b[0m | \u001b[36mnlp_project.config\u001b[0m:\u001b[36m<module>\u001b[0m:\u001b[36m11\u001b[0m - \u001b[1mPROJ_ROOT path is: C:\\Users\\Utente\\OneDrive - Università di Salerno\\Magistrale\\NLP\\nlp-project\u001b[0m\n"
     ]
    }
   ],
   "source": [
    "from nlp_project.config import PROCESSED_DATA_DIR, INTERIM_DATA_DIR\n",
    "from nlp_project.plots import *\n",
    "from nlp_project.dataset import build_ontolgy"
   ]
  },
  {
   "cell_type": "code",
   "execution_count": 5,
   "id": "c4f999cb-e3b9-4175-894e-d9b66bc0904c",
   "metadata": {},
   "outputs": [
    {
     "data": {
      "text/html": [
       "<div>\n",
       "<style scoped>\n",
       "    .dataframe tbody tr th:only-of-type {\n",
       "        vertical-align: middle;\n",
       "    }\n",
       "\n",
       "    .dataframe tbody tr th {\n",
       "        vertical-align: top;\n",
       "    }\n",
       "\n",
       "    .dataframe thead th {\n",
       "        text-align: right;\n",
       "    }\n",
       "</style>\n",
       "<table border=\"1\" class=\"dataframe\">\n",
       "  <thead>\n",
       "    <tr style=\"text-align: right;\">\n",
       "      <th></th>\n",
       "      <th>overall</th>\n",
       "      <th>reviewText</th>\n",
       "      <th>description</th>\n",
       "      <th>title</th>\n",
       "      <th>brand</th>\n",
       "      <th>price</th>\n",
       "      <th>asin</th>\n",
       "      <th>year</th>\n",
       "      <th>preprocessed_text</th>\n",
       "      <th>tagged_text</th>\n",
       "    </tr>\n",
       "  </thead>\n",
       "  <tbody>\n",
       "    <tr>\n",
       "      <th>0</th>\n",
       "      <td>5.0</td>\n",
       "      <td>I just got mine today, but so far so good!  I ...</td>\n",
       "      <td>['Like new in box great looking phone get it b...</td>\n",
       "      <td>Motorola Moto Q - Smartphone - CDMA2000 1X - b...</td>\n",
       "      <td>Motorola</td>\n",
       "      <td>17.99</td>\n",
       "      <td>B000FYU4SO</td>\n",
       "      <td>2006</td>\n",
       "      <td>got mine today far good used use t618 obviousl...</td>\n",
       "      <td>[('got', 'VERB', 0.0), ('mine', 'ADJ', 0.0), (...</td>\n",
       "    </tr>\n",
       "    <tr>\n",
       "      <th>1</th>\n",
       "      <td>1.0</td>\n",
       "      <td>I've spent a week now trying to get this to sy...</td>\n",
       "      <td>['Like new in box great looking phone get it b...</td>\n",
       "      <td>Motorola Moto Q - Smartphone - CDMA2000 1X - b...</td>\n",
       "      <td>Motorola</td>\n",
       "      <td>17.99</td>\n",
       "      <td>B000FYU4SO</td>\n",
       "      <td>2006</td>\n",
       "      <td>ive spent week trying get synch office compute...</td>\n",
       "      <td>[('ive', 'ADJ', 0.0), ('spent', 'VERB', 0.0), ...</td>\n",
       "    </tr>\n",
       "    <tr>\n",
       "      <th>2</th>\n",
       "      <td>5.0</td>\n",
       "      <td>I have read a lot of the reviews and spoken to...</td>\n",
       "      <td>['Like new in box great looking phone get it b...</td>\n",
       "      <td>Motorola Moto Q - Smartphone - CDMA2000 1X - b...</td>\n",
       "      <td>Motorola</td>\n",
       "      <td>17.99</td>\n",
       "      <td>B000FYU4SO</td>\n",
       "      <td>2006</td>\n",
       "      <td>read lot review spoken number current owner mo...</td>\n",
       "      <td>[('read', 'VERB', 0.0), ('lot', 'NOUN', 0.0), ...</td>\n",
       "    </tr>\n",
       "    <tr>\n",
       "      <th>3</th>\n",
       "      <td>2.0</td>\n",
       "      <td>I had been waiting for months for this phone t...</td>\n",
       "      <td>['Like new in box great looking phone get it b...</td>\n",
       "      <td>Motorola Moto Q - Smartphone - CDMA2000 1X - b...</td>\n",
       "      <td>Motorola</td>\n",
       "      <td>17.99</td>\n",
       "      <td>B000FYU4SO</td>\n",
       "      <td>2006</td>\n",
       "      <td>waiting month phone replace blackberry 7100 wa...</td>\n",
       "      <td>[('waiting', 'VERB', 0.0), ('month', 'NOUN', 0...</td>\n",
       "    </tr>\n",
       "    <tr>\n",
       "      <th>4</th>\n",
       "      <td>5.0</td>\n",
       "      <td>this is THE phone.  its like the razor and the...</td>\n",
       "      <td>['Like new in box great looking phone get it b...</td>\n",
       "      <td>Motorola Moto Q - Smartphone - CDMA2000 1X - b...</td>\n",
       "      <td>Motorola</td>\n",
       "      <td>17.99</td>\n",
       "      <td>B000FYU4SO</td>\n",
       "      <td>2006</td>\n",
       "      <td>phone like razor blackberry baby blackberry ri...</td>\n",
       "      <td>[('phone', 'NOUN', 0.0), ('like', 'ADP', 2.0),...</td>\n",
       "    </tr>\n",
       "    <tr>\n",
       "      <th>...</th>\n",
       "      <td>...</td>\n",
       "      <td>...</td>\n",
       "      <td>...</td>\n",
       "      <td>...</td>\n",
       "      <td>...</td>\n",
       "      <td>...</td>\n",
       "      <td>...</td>\n",
       "      <td>...</td>\n",
       "      <td>...</td>\n",
       "      <td>...</td>\n",
       "    </tr>\n",
       "    <tr>\n",
       "      <th>106158</th>\n",
       "      <td>5.0</td>\n",
       "      <td>My old 5C was dying, quickly.  I was in a hurr...</td>\n",
       "      <td>['iPhone with iOS 9; Lightning to USB Cable; U...</td>\n",
       "      <td>Apple iPhone SE, GSM Unlocked, 16 GB - Space G...</td>\n",
       "      <td>Apple</td>\n",
       "      <td>40.08</td>\n",
       "      <td>B01GXAT0BK</td>\n",
       "      <td>2018</td>\n",
       "      <td>old 5c dying quickly hurry get replacement kic...</td>\n",
       "      <td>[('old', 'ADJ', 0.0), ('5c', 'NUM', 0.0), ('dy...</td>\n",
       "    </tr>\n",
       "    <tr>\n",
       "      <th>106159</th>\n",
       "      <td>4.0</td>\n",
       "      <td>Overall good buy</td>\n",
       "      <td>['iPhone with iOS 9; Lightning to USB Cable; U...</td>\n",
       "      <td>Apple iPhone SE, GSM Unlocked, 16 GB - Space G...</td>\n",
       "      <td>Apple</td>\n",
       "      <td>40.08</td>\n",
       "      <td>B01GXAT0BK</td>\n",
       "      <td>2018</td>\n",
       "      <td>overall good buy</td>\n",
       "      <td>[('overall', 'ADJ', 0.0), ('good', 'ADJ', 3.0)...</td>\n",
       "    </tr>\n",
       "    <tr>\n",
       "      <th>106160</th>\n",
       "      <td>1.0</td>\n",
       "      <td>This phone is no good!! Keeps freezing up. Eve...</td>\n",
       "      <td>['iPhone with iOS 9; Lightning to USB Cable; U...</td>\n",
       "      <td>Apple iPhone SE, GSM Unlocked, 16 GB - Space G...</td>\n",
       "      <td>Apple</td>\n",
       "      <td>40.08</td>\n",
       "      <td>B01GXAT0BK</td>\n",
       "      <td>2018</td>\n",
       "      <td>phone good keep freezing even touching power h...</td>\n",
       "      <td>[('phone', 'NOUN', 0.0), ('good', 'ADJ', 3.0),...</td>\n",
       "    </tr>\n",
       "    <tr>\n",
       "      <th>106161</th>\n",
       "      <td>5.0</td>\n",
       "      <td>Broke my phone and needed an urgent substituti...</td>\n",
       "      <td>['iPhone with iOS 9; Lightning to USB Cable; U...</td>\n",
       "      <td>Apple iPhone SE, GSM Unlocked, 16 GB - Space G...</td>\n",
       "      <td>Apple</td>\n",
       "      <td>40.08</td>\n",
       "      <td>B01GXAT0BK</td>\n",
       "      <td>2018</td>\n",
       "      <td>broke phone needed urgent substitution phone r...</td>\n",
       "      <td>[('broke', 'VERB', -1.0), ('phone', 'NOUN', 0....</td>\n",
       "    </tr>\n",
       "    <tr>\n",
       "      <th>106162</th>\n",
       "      <td>4.0</td>\n",
       "      <td>He loved it</td>\n",
       "      <td>['iPhone with iOS 9; Lightning to USB Cable; U...</td>\n",
       "      <td>Apple iPhone SE, GSM Unlocked, 16 GB - Space G...</td>\n",
       "      <td>Apple</td>\n",
       "      <td>40.08</td>\n",
       "      <td>B01GXAT0BK</td>\n",
       "      <td>2018</td>\n",
       "      <td>loved</td>\n",
       "      <td>[('loved', 'VERB', 3.0)]</td>\n",
       "    </tr>\n",
       "  </tbody>\n",
       "</table>\n",
       "<p>106163 rows × 10 columns</p>\n",
       "</div>"
      ],
      "text/plain": [
       "        overall                                         reviewText  \\\n",
       "0           5.0  I just got mine today, but so far so good!  I ...   \n",
       "1           1.0  I've spent a week now trying to get this to sy...   \n",
       "2           5.0  I have read a lot of the reviews and spoken to...   \n",
       "3           2.0  I had been waiting for months for this phone t...   \n",
       "4           5.0  this is THE phone.  its like the razor and the...   \n",
       "...         ...                                                ...   \n",
       "106158      5.0  My old 5C was dying, quickly.  I was in a hurr...   \n",
       "106159      4.0                                   Overall good buy   \n",
       "106160      1.0  This phone is no good!! Keeps freezing up. Eve...   \n",
       "106161      5.0  Broke my phone and needed an urgent substituti...   \n",
       "106162      4.0                                        He loved it   \n",
       "\n",
       "                                              description  \\\n",
       "0       ['Like new in box great looking phone get it b...   \n",
       "1       ['Like new in box great looking phone get it b...   \n",
       "2       ['Like new in box great looking phone get it b...   \n",
       "3       ['Like new in box great looking phone get it b...   \n",
       "4       ['Like new in box great looking phone get it b...   \n",
       "...                                                   ...   \n",
       "106158  ['iPhone with iOS 9; Lightning to USB Cable; U...   \n",
       "106159  ['iPhone with iOS 9; Lightning to USB Cable; U...   \n",
       "106160  ['iPhone with iOS 9; Lightning to USB Cable; U...   \n",
       "106161  ['iPhone with iOS 9; Lightning to USB Cable; U...   \n",
       "106162  ['iPhone with iOS 9; Lightning to USB Cable; U...   \n",
       "\n",
       "                                                    title     brand  price  \\\n",
       "0       Motorola Moto Q - Smartphone - CDMA2000 1X - b...  Motorola  17.99   \n",
       "1       Motorola Moto Q - Smartphone - CDMA2000 1X - b...  Motorola  17.99   \n",
       "2       Motorola Moto Q - Smartphone - CDMA2000 1X - b...  Motorola  17.99   \n",
       "3       Motorola Moto Q - Smartphone - CDMA2000 1X - b...  Motorola  17.99   \n",
       "4       Motorola Moto Q - Smartphone - CDMA2000 1X - b...  Motorola  17.99   \n",
       "...                                                   ...       ...    ...   \n",
       "106158  Apple iPhone SE, GSM Unlocked, 16 GB - Space G...     Apple  40.08   \n",
       "106159  Apple iPhone SE, GSM Unlocked, 16 GB - Space G...     Apple  40.08   \n",
       "106160  Apple iPhone SE, GSM Unlocked, 16 GB - Space G...     Apple  40.08   \n",
       "106161  Apple iPhone SE, GSM Unlocked, 16 GB - Space G...     Apple  40.08   \n",
       "106162  Apple iPhone SE, GSM Unlocked, 16 GB - Space G...     Apple  40.08   \n",
       "\n",
       "              asin  year                                  preprocessed_text  \\\n",
       "0       B000FYU4SO  2006  got mine today far good used use t618 obviousl...   \n",
       "1       B000FYU4SO  2006  ive spent week trying get synch office compute...   \n",
       "2       B000FYU4SO  2006  read lot review spoken number current owner mo...   \n",
       "3       B000FYU4SO  2006  waiting month phone replace blackberry 7100 wa...   \n",
       "4       B000FYU4SO  2006  phone like razor blackberry baby blackberry ri...   \n",
       "...            ...   ...                                                ...   \n",
       "106158  B01GXAT0BK  2018  old 5c dying quickly hurry get replacement kic...   \n",
       "106159  B01GXAT0BK  2018                                   overall good buy   \n",
       "106160  B01GXAT0BK  2018  phone good keep freezing even touching power h...   \n",
       "106161  B01GXAT0BK  2018  broke phone needed urgent substitution phone r...   \n",
       "106162  B01GXAT0BK  2018                                              loved   \n",
       "\n",
       "                                              tagged_text  \n",
       "0       [('got', 'VERB', 0.0), ('mine', 'ADJ', 0.0), (...  \n",
       "1       [('ive', 'ADJ', 0.0), ('spent', 'VERB', 0.0), ...  \n",
       "2       [('read', 'VERB', 0.0), ('lot', 'NOUN', 0.0), ...  \n",
       "3       [('waiting', 'VERB', 0.0), ('month', 'NOUN', 0...  \n",
       "4       [('phone', 'NOUN', 0.0), ('like', 'ADP', 2.0),...  \n",
       "...                                                   ...  \n",
       "106158  [('old', 'ADJ', 0.0), ('5c', 'NUM', 0.0), ('dy...  \n",
       "106159  [('overall', 'ADJ', 0.0), ('good', 'ADJ', 3.0)...  \n",
       "106160  [('phone', 'NOUN', 0.0), ('good', 'ADJ', 3.0),...  \n",
       "106161  [('broke', 'VERB', -1.0), ('phone', 'NOUN', 0....  \n",
       "106162                           [('loved', 'VERB', 3.0)]  \n",
       "\n",
       "[106163 rows x 10 columns]"
      ]
     },
     "execution_count": 5,
     "metadata": {},
     "output_type": "execute_result"
    }
   ],
   "source": [
    "dataset = pd.read_csv(PROCESSED_DATA_DIR / 'preprocessed_dataset.csv', sep=';')\n",
    "dataset"
   ]
  },
  {
   "cell_type": "code",
   "execution_count": null,
   "id": "eacfdf7a-526f-4cae-a7db-c655fbe6f382",
   "metadata": {},
   "outputs": [],
   "source": [
    "descr = dataset[['description', 'asin', 'brand']]\n",
    "descr.drop_duplicates(inplace=True)\n",
    "descr"
   ]
  },
  {
   "cell_type": "code",
   "execution_count": null,
   "id": "8fc69645-e7e7-4acd-8d1d-1ff498a4cd92",
   "metadata": {},
   "outputs": [],
   "source": [
    "brands_product_count = descr.groupby('brand').size().reset_index(name='counts').sort_values(by='counts', ascending=False)\n",
    "brands_product_count.to_csv(INTERIM_DATA_DIR / 'brand_product_count.csv',sep=';', index=False)\n",
    "brands_product_count"
   ]
  },
  {
   "cell_type": "code",
   "execution_count": null,
   "id": "6c1f77f6-8c06-40c7-9630-513298e0297e",
   "metadata": {},
   "outputs": [],
   "source": [
    "import plotly.graph_objects as go\n",
    "\n",
    "labels = brands_product_count['brand']\n",
    "values = brands_product_count['counts']\n",
    "\n",
    "pie_chart_go(labels=labels, values=values)"
   ]
  },
  {
   "cell_type": "code",
   "execution_count": null,
   "id": "456d7f15-5dfb-4f09-b40c-a7a7c9f52d3e",
   "metadata": {},
   "outputs": [],
   "source": [
    "import nltk\n",
    "nltk.download('punkt')\n",
    "nltk.download('wordnet')\n",
    "nltk.download('stopwords')\n",
    "nltk.download('averaged_perceptron_tagger')\n",
    "nltk.download('tagsets')\n",
    "nltk.download('universal_tagset')"
   ]
  },
  {
   "cell_type": "code",
   "execution_count": null,
   "id": "5324c2bc-210b-4939-9ca6-a0c05c0dafd6",
   "metadata": {},
   "outputs": [],
   "source": [
    "from nltk.corpus import stopwords\n",
    "stop_words = stopwords.words('english')"
   ]
  },
  {
   "cell_type": "code",
   "execution_count": null,
   "id": "84fcab0e-006d-40f4-a916-064d56f78776",
   "metadata": {},
   "outputs": [],
   "source": [
    "from nltk.stem import WordNetLemmatizer\n",
    "lemmatizer = WordNetLemmatizer()"
   ]
  },
  {
   "cell_type": "code",
   "execution_count": null,
   "id": "767825b3-7522-4a28-9fe8-de1dc9e81ad0",
   "metadata": {},
   "outputs": [],
   "source": [
    "'''\n",
    "def build_ontolgy(df):\n",
    "    nouns = []\n",
    "    for index, row in tqdm(df.iterrows(), total = len(df)):\n",
    "        text = row['description']\n",
    "        text_cleaned = re.sub(r'[^\\w\\s]', '', text) #cleaning\n",
    "        words = nltk.word_tokenize(text_cleaned) #tokenization\n",
    "        words = [w.lower() for w in words] #lower casing\n",
    "        tagged_words = nltk.pos_tag(words, tagset='universal') #POS-tagging\n",
    "        preprocessed_words = [(lemmatizer.lemmatize(w), tag) for w, tag in tagged_words if not w in stop_words] #stopwords removal and lemmatization\n",
    "        #print(filter_text)\n",
    "        for word, tag in preprocessed_words:\n",
    "            if(tag == 'NOUN'):\n",
    "                nouns.append(word)\n",
    "            \n",
    "    return nouns\n",
    "'''"
   ]
  },
  {
   "cell_type": "code",
   "execution_count": null,
   "id": "ceb156b1-16a3-43d2-ad5a-783c38e4f6a6",
   "metadata": {},
   "outputs": [],
   "source": [
    "ont = build_ontolgy(descr, lemmatizer, stop_words)"
   ]
  },
  {
   "cell_type": "code",
   "execution_count": null,
   "id": "c6b86fe8-b861-4b61-8ec1-b5389c88d13c",
   "metadata": {},
   "outputs": [],
   "source": [
    "from collections import Counter\n",
    "\n",
    "nouns_freq = Counter(ont)\n",
    "#print(value_counts)\n",
    "# Convert Counter to DataFrame\n",
    "df_nouns_freq = pd.DataFrame(nouns_freq.items(), columns=['value', 'count'])\n",
    "df_nouns_freq = df_nouns_freq.sort_values(by='count', ascending=False)\n",
    "df_nouns_freq.head(30)"
   ]
  },
  {
   "cell_type": "code",
   "execution_count": null,
   "id": "9a1bebc6-ed12-4c23-b899-827543aff29f",
   "metadata": {},
   "outputs": [],
   "source": [
    "sb_bar_plot(x = df_nouns_freq['count'][:25],\n",
    "            y = df_nouns_freq['value'][:25],\n",
    "            orient='h',\n",
    "            title='Most frequent nouns in description', \n",
    "            xlabel='Count', \n",
    "            ylabel='Noun')"
   ]
  },
  {
   "cell_type": "markdown",
   "id": "2a0f93e3-53d7-4416-8eca-8da2dd7bd3dc",
   "metadata": {},
   "source": [
    "Esporto e analizzo in excel manualmente"
   ]
  },
  {
   "cell_type": "code",
   "execution_count": null,
   "id": "66d34963-b85b-441c-ac7b-1039c943a483",
   "metadata": {},
   "outputs": [],
   "source": [
    "df_nouns_freq.to_csv(PROCESSED_DATA_DIR / 'ontology.csv', index=False, sep=';')"
   ]
  },
  {
   "cell_type": "code",
   "execution_count": null,
   "id": "9807c028-5181-442e-bdfe-4d7afe8f64fc",
   "metadata": {},
   "outputs": [],
   "source": [
    "# Parole chiave da cercare\n",
    "#features = list(pd.read_csv('data/ontology_filtered.csv', sep=';')['value'])\n"
   ]
  },
  {
   "cell_type": "code",
   "execution_count": null,
   "id": "4751fc53-3515-4203-943d-7f17ffbde29d",
   "metadata": {},
   "outputs": [],
   "source": [
    "#features"
   ]
  },
  {
   "cell_type": "code",
   "execution_count": null,
   "id": "06573421-214b-4691-8373-b04027fd0347",
   "metadata": {},
   "outputs": [],
   "source": [
    "# Crea un'espressione regolare che combini tutte le parole chiave\n",
    "#pattern = '|'.join(features)\n",
    "\n",
    "# Filtra il DataFrame\n",
    "#filtered_df = dataset[dataset['preprocessedText'].str.contains(pattern, case=False, na=False)]\n",
    "\n",
    "#filtered_df.loc[0,'preprocessedText']"
   ]
  },
  {
   "cell_type": "code",
   "execution_count": null,
   "id": "58c5bc6d-198e-4813-b722-de762d05c961",
   "metadata": {},
   "outputs": [],
   "source": [
    "#filtered_df.to_csv('data/preprocessed_dataset.csv', index=False, sep=';')"
   ]
  },
  {
   "cell_type": "code",
   "execution_count": null,
   "id": "25813ee9-2346-4e01-956d-82482a4b66d5",
   "metadata": {},
   "outputs": [],
   "source": []
  }
 ],
 "metadata": {
  "kernelspec": {
   "display_name": "Python 3 (ipykernel)",
   "language": "python",
   "name": "python3"
  },
  "language_info": {
   "codemirror_mode": {
    "name": "ipython",
    "version": 3
   },
   "file_extension": ".py",
   "mimetype": "text/x-python",
   "name": "python",
   "nbconvert_exporter": "python",
   "pygments_lexer": "ipython3",
   "version": "3.10.15"
  }
 },
 "nbformat": 4,
 "nbformat_minor": 5
}
