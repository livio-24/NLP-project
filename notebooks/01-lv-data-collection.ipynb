{
 "cells": [
  {
   "cell_type": "code",
   "execution_count": null,
   "id": "06cb007e-4989-44d1-a463-1c76f11016c9",
   "metadata": {},
   "outputs": [],
   "source": [
    "%load_ext autoreload\n",
    "%autoreload 2"
   ]
  },
  {
   "cell_type": "code",
   "execution_count": null,
   "id": "5c9980a6-10c1-4fcc-ba90-b76fcb948c18",
   "metadata": {},
   "outputs": [],
   "source": [
    "import os\n",
    "import sys\n",
    "module_path = os.path.abspath(os.path.join('..')) # or the path to your source code\n",
    "sys.path.insert(0, module_path)"
   ]
  },
  {
   "cell_type": "code",
   "execution_count": null,
   "id": "19fb49fe-9361-4fa8-a42b-d14a36d0d41f",
   "metadata": {},
   "outputs": [],
   "source": [
    "import pandas as pd\n",
    "import seaborn as sns\n",
    "import matplotlib.pyplot as plt\n",
    "import json\n",
    "\n",
    "from nlp_project.dataset import load_data\n",
    "from nlp_project.config import PROCESSED_DATA_DIR, INTERIM_DATA_DIR, RAW_DATA_DIR\n",
    "from nlp_project.plots import sb_bar_plot"
   ]
  },
  {
   "cell_type": "code",
   "execution_count": null,
   "id": "b6fbc88b-3876-4a05-8cf5-ea11126e19f2",
   "metadata": {},
   "outputs": [],
   "source": [
    "data_2018, metadata_2018 = load_data()"
   ]
  },
  {
   "cell_type": "code",
   "execution_count": null,
   "id": "a1097239-211a-41ac-816e-5f37120f6895",
   "metadata": {},
   "outputs": [],
   "source": [
    "print(data_2018.shape)\n",
    "print(metadata_2018.shape)"
   ]
  },
  {
   "cell_type": "code",
   "execution_count": null,
   "id": "e34c07d2-a783-4a37-9535-3be72461bed1",
   "metadata": {
    "scrolled": true
   },
   "outputs": [],
   "source": [
    "data_2018.info()"
   ]
  },
  {
   "cell_type": "code",
   "execution_count": null,
   "id": "3385254f-cb06-4a6d-b5d5-ca2127c9d390",
   "metadata": {},
   "outputs": [],
   "source": [
    "metadata_2018.info()"
   ]
  },
  {
   "cell_type": "code",
   "execution_count": null,
   "id": "9159b7e2-fc9c-4954-ac59-6c9291bbff01",
   "metadata": {},
   "outputs": [],
   "source": [
    "main_cat_value_counts = metadata_2018['main_cat'].value_counts()"
   ]
  },
  {
   "cell_type": "code",
   "execution_count": null,
   "id": "fbd4d291-76da-4625-91fc-0091b75d1438",
   "metadata": {
    "scrolled": true
   },
   "outputs": [],
   "source": [
    "print(main_cat_value_counts)"
   ]
  },
  {
   "cell_type": "code",
   "execution_count": null,
   "id": "418a31df-059a-40a3-bcfc-19f02653e97a",
   "metadata": {},
   "outputs": [],
   "source": [
    "data_2018.head(20)"
   ]
  },
  {
   "cell_type": "code",
   "execution_count": null,
   "id": "9fccf3ef-6031-4b01-bb51-496f9774222d",
   "metadata": {},
   "outputs": [],
   "source": [
    "metadata_2018.head()"
   ]
  },
  {
   "cell_type": "code",
   "execution_count": null,
   "id": "1995b49a-72c3-4525-a2d5-cec5e45acf67",
   "metadata": {},
   "outputs": [],
   "source": [
    "merged_df = pd.merge(data_2018, metadata_2018, on='asin')\n",
    "print(merged_df.shape)\n",
    "print(merged_df.info()) "
   ]
  },
  {
   "cell_type": "code",
   "execution_count": null,
   "id": "b535885a-c31b-4129-9966-6939711b2aa7",
   "metadata": {},
   "outputs": [],
   "source": [
    "# Select specific columns\n",
    "selected_columns = ['overall', 'reviewText', 'category', 'description', 'title', 'brand', 'feature', 'details', 'main_cat', 'price', 'asin']\n",
    "merged_df = merged_df[selected_columns]"
   ]
  },
  {
   "cell_type": "code",
   "execution_count": null,
   "id": "277cb12e",
   "metadata": {},
   "outputs": [],
   "source": [
    "len(merged_df['asin'].unique())"
   ]
  },
  {
   "cell_type": "code",
   "execution_count": null,
   "id": "6a967080-fe9a-46db-8b10-ff0761134ec7",
   "metadata": {},
   "outputs": [],
   "source": [
    "merged_df.head(30)"
   ]
  },
  {
   "cell_type": "markdown",
   "id": "4fbe6a21-62e5-4c18-af4e-3335e3192844",
   "metadata": {},
   "source": [
    "come ottengo solo le reviews di cellulari???\n",
    "Andando a filtrare la categoria, selezionando solo ['Cell Phones & Accessories', 'Cell Phones', 'Unlocked Cell Phones']"
   ]
  },
  {
   "cell_type": "code",
   "execution_count": null,
   "id": "bb53b655-4775-4e90-b918-1d3a5ba47c8d",
   "metadata": {
    "scrolled": true
   },
   "outputs": [],
   "source": [
    "categories_counts = merged_df['category'].value_counts()"
   ]
  },
  {
   "cell_type": "code",
   "execution_count": null,
   "id": "e815b031-2833-4375-b353-3cddc555e660",
   "metadata": {},
   "outputs": [],
   "source": [
    "categories_counts = merged_df['category'].value_counts().reset_index()\n",
    "categories_counts.columns = ['category', 'count']\n",
    "#categories_counts\n",
    "categories_counts.to_csv(INTERIM_DATA_DIR / 'full_categories_counts.csv', index = False) "
   ]
  },
  {
   "cell_type": "code",
   "execution_count": null,
   "id": "0297a26c-5e44-4fc7-852a-139c8ace4c95",
   "metadata": {},
   "outputs": [],
   "source": [
    "#merged_df[merged_df['category'] == ['Cell Phones & Accessories', 'Cell Phones', 'Unlocked Cell Phones']]\n",
    "condition = merged_df['category'].isin([['Cell Phones & Accessories', 'Cell Phones', 'Unlocked Cell Phones']])\n",
    "print(merged_df['category'].isin([['Cell Phones & Accessories', 'Cell Phones', 'Unlocked Cell Phones']]).value_counts())\n"
   ]
  },
  {
   "cell_type": "code",
   "execution_count": null,
   "id": "b6eb3465-b5be-4ad3-ac29-505e91a714ce",
   "metadata": {},
   "outputs": [],
   "source": [
    "cell_phones_only = merged_df[merged_df['category'].isin([['Cell Phones & Accessories', 'Cell Phones', 'Unlocked Cell Phones']])]\n",
    "cell_phones_only"
   ]
  },
  {
   "cell_type": "markdown",
   "id": "471f6f2b",
   "metadata": {},
   "source": [
    "Quanti prodotti singoli ci sono?"
   ]
  },
  {
   "cell_type": "code",
   "execution_count": null,
   "id": "b244265c",
   "metadata": {},
   "outputs": [],
   "source": [
    "len(cell_phones_only['asin'].unique())"
   ]
  },
  {
   "cell_type": "markdown",
   "id": "015072d8-b5af-42bd-b65b-9719eac5300d",
   "metadata": {},
   "source": [
    "Quali sono i brand di cellulari più frequenti?"
   ]
  },
  {
   "cell_type": "code",
   "execution_count": null,
   "id": "f1896057-e66a-4525-907e-87096bec9e86",
   "metadata": {
    "scrolled": true
   },
   "outputs": [],
   "source": [
    "cell_phones_only['brand'].value_counts()"
   ]
  },
  {
   "cell_type": "code",
   "execution_count": null,
   "id": "b6d6f240-2bb7-4b31-9bc6-4505ff820ded",
   "metadata": {},
   "outputs": [],
   "source": [
    "cell_phones_brand_counts = cell_phones_only['brand'].value_counts().reset_index()\n",
    "cell_phones_brand_counts.columns = ['brand', 'count']\n",
    "cell_phones_brand_counts.to_csv(INTERIM_DATA_DIR / 'brand_counts.csv', index = False) "
   ]
  },
  {
   "cell_type": "code",
   "execution_count": null,
   "id": "dce65a73-3fe4-4b83-a593-352e951c1143",
   "metadata": {},
   "outputs": [],
   "source": [
    "#select top 10 brand\n",
    "cell_phones_brand_counts = cell_phones_brand_counts[:10]\n",
    "sb_bar_plot(x = cell_phones_brand_counts['count'],\n",
    "            y = cell_phones_brand_counts['brand'],\n",
    "            title = 'top 10 brand',\n",
    "            xlabel = 'Count',\n",
    "            ylabel = 'Brand',\n",
    "            orient='h')"
   ]
  },
  {
   "cell_type": "code",
   "execution_count": null,
   "id": "43efbef4-cf8a-460b-bd71-62c301006a61",
   "metadata": {},
   "outputs": [],
   "source": [
    "top10_brand_list = cell_phones_brand_counts['brand']\n",
    "cell_phones_top10_brand = cell_phones_only[cell_phones_only['brand'].isin(top10_brand_list)]\n",
    "cell_phones_top10_brand"
   ]
  },
  {
   "cell_type": "code",
   "execution_count": null,
   "id": "1fb7a59d-1dec-460d-a853-455fe3fb98da",
   "metadata": {},
   "outputs": [],
   "source": [
    "cell_phones_top10_brand.isnull().sum()"
   ]
  },
  {
   "cell_type": "code",
   "execution_count": null,
   "id": "c28ee03f-f9b1-4e66-9c83-84bea9fe8cb3",
   "metadata": {},
   "outputs": [],
   "source": [
    "ratings = cell_phones_top10_brand['overall'].value_counts()\n",
    "sb_bar_plot(x = ratings.values,\n",
    "            y = ratings.index,\n",
    "            title = 'Ratings value counts',\n",
    "            xlabel = 'Count',\n",
    "            ylabel = 'Rating',\n",
    "            orient='h')\n",
    "\n",
    "print(ratings)"
   ]
  },
  {
   "cell_type": "code",
   "execution_count": null,
   "id": "968eab8d-1888-437b-b93b-0b010120d2d2",
   "metadata": {},
   "outputs": [],
   "source": [
    "cell_phones_top10_brand = cell_phones_top10_brand.drop(columns = ['category', 'main_cat', 'details'])\n"
   ]
  },
  {
   "cell_type": "code",
   "execution_count": null,
   "id": "f246ba77",
   "metadata": {},
   "outputs": [],
   "source": [
    "cell_phones_top10_brand.to_csv(PROCESSED_DATA_DIR / 'cell_phones_reviews.csv', index = False)"
   ]
  },
  {
   "cell_type": "code",
   "execution_count": null,
   "id": "4f7aacd6-c192-44e9-94e8-022c38028bb4",
   "metadata": {},
   "outputs": [],
   "source": []
  }
 ],
 "metadata": {
  "kernelspec": {
   "display_name": "Python 3 (ipykernel)",
   "language": "python",
   "name": "python3"
  },
  "language_info": {
   "codemirror_mode": {
    "name": "ipython",
    "version": 3
   },
   "file_extension": ".py",
   "mimetype": "text/x-python",
   "name": "python",
   "nbconvert_exporter": "python",
   "pygments_lexer": "ipython3",
   "version": "3.10.15"
  }
 },
 "nbformat": 4,
 "nbformat_minor": 5
}
